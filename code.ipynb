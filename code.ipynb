{
 "cells": [
  {
   "cell_type": "markdown",
   "metadata": {},
   "source": [
    "Secure & Distributed Data Sharing with Blockchain and Shamir’s Secret Sharing"
   ]
  },
  {
   "cell_type": "markdown",
   "metadata": {},
   "source": [
    "Project is Divided into 2 parts\n",
    "- Encryption \n",
    "- Decryption"
   ]
  },
  {
   "cell_type": "markdown",
   "metadata": {},
   "source": [
    "1- Encryption"
   ]
  },
  {
   "cell_type": "code",
   "execution_count": 1,
   "metadata": {},
   "outputs": [],
   "source": [
    "#Libraries needed\n",
    "from cryptography.fernet import Fernet\n",
    "from secrets import token_bytes\n",
    "from datetime import datetime, timedelta  # for timestamps\n",
    "import os  # for folder creation\n",
    "import random  # for simulating temperature readings\n",
    "import json  # for transaction data\n",
    "import shamirs"
   ]
  },
  {
   "cell_type": "code",
   "execution_count": 2,
   "metadata": {},
   "outputs": [],
   "source": [
    "#Blockchain simulation\n",
    "class Block:\n",
    "    \"\"\"Simulates a blockchain block\"\"\"\n",
    "    def __init__(self, index, timestamp, data, previous_hash):\n",
    "        self.index = index\n",
    "        self.timestamp = timestamp\n",
    "        self.data = data\n",
    "        self.previous_hash = previous_hash\n",
    "        self.hash = self.calculate_hash()\n",
    "\n",
    "    def calculate_hash(self):\n",
    "        # Simplified hash calculation (replace with a real hashing algorithm)\n",
    "        data_string = json.dumps(self.__dict__, sort_keys=True)\n",
    "        return hash(data_string)\n",
    "\n",
    "class Blockchain:\n",
    "    \"\"\"Simulates a simple blockchain\"\"\"\n",
    "    def __init__(self):\n",
    "        self.chain = []\n",
    "        self.create_genesis_block()\n",
    "\n",
    "    def create_genesis_block(self):\n",
    "        \"\"\"Creates the first block (genesis block)\"\"\"\n",
    "        genesis_data = {\"message\": \"Honeycomb Demo Blockchain\"}\n",
    "        self.chain.append(Block(0, datetime.utcnow(), genesis_data, \"0\"))\n",
    "\n",
    "    def get_latest_block(self):\n",
    "        return self.chain[-1]\n",
    "\n",
    "    def add_block(self, block):\n",
    "        self.chain.append(block)\n",
    "\n",
    "    def proof_of_work(self, block):\n",
    "        \"\"\"Simplistic Proof of Work (replace with a real consensus mechanism)\"\"\"\n",
    "        while True:\n",
    "            block.hash = block.calculate_hash()\n",
    "            if block.hash[:2] == \"00\":  # Adjust difficulty as needed\n",
    "                break"
   ]
  },
  {
   "cell_type": "markdown",
   "metadata": {},
   "source": [
    "Getting Data as input in the form of fragments"
   ]
  },
  {
   "cell_type": "code",
   "execution_count": 3,
   "metadata": {},
   "outputs": [],
   "source": [
    "def get_temperature():\n",
    "    \"\"\"Simulates a temperature sensor reading\"\"\"\n",
    "    return random.randint(18, 28)  # Adjust range as needed\n",
    "\n",
    "def create_data_fragment(num_readings, time_interval):\n",
    "    \"\"\"Creates a data fragment with multiple temperature readings\"\"\"\n",
    "    readings = []\n",
    "    current_time = datetime.now()\n",
    "    for _ in range(num_readings):\n",
    "        temperature = get_temperature()\n",
    "        reading_time = current_time.strftime(\"%H:%M:%S\")  # Format timestamp\n",
    "        readings.append(f\"{reading_time}: {temperature}°C\")\n",
    "        current_time += timedelta(minutes=time_interval)  # Simulate time interval\n",
    "\n",
    "    data_fragment = \"\\n\".join(readings)\n",
    "    return data_fragment"
   ]
  },
  {
   "cell_type": "markdown",
   "metadata": {},
   "source": [
    "Data encryption and key generation"
   ]
  },
  {
   "cell_type": "code",
   "execution_count": 4,
   "metadata": {},
   "outputs": [],
   "source": [
    "def encrypt_data(data):\n",
    "    # Generate encryption key\n",
    "    key = Fernet.generate_key()\n",
    "    fernet = Fernet(key)\n",
    "\n",
    "    # Encrypt data fragment\n",
    "    encrypted_data = fernet.encrypt(data.encode())\n",
    "    return encrypted_data, key\n"
   ]
  },
  {
   "cell_type": "markdown",
   "metadata": {},
   "source": [
    "KEY shares and storing all shares"
   ]
  },
  {
   "cell_type": "code",
   "execution_count": 5,
   "metadata": {},
   "outputs": [],
   "source": [
    "def split_key(key, num_shares, threshold):\n",
    "    # Key sharding\n",
    "    shares = shamirs.shares(key, num_shares, threshold)\n",
    "    return shares\n",
    "\n",
    "def store_shares(shares, folder_paths):\n",
    "    for i, share in enumerate(shares):\n",
    "        # Prepend random data for obfuscation (optional)\n",
    "        share_data = token_bytes() + share\n",
    "        \n",
    "        # Create folder if it doesn't exist\n",
    "        if not os.path.exists(folder_paths[i]):\n",
    "            os.mkdir(folder_paths[i])\n",
    "\n",
    "        # Store share in a file\n",
    "        with open(f\"{folder_paths[i]}/share_{i+1}.txt\", \"wb\") as f:\n",
    "            f.write(share_data)"
   ]
  },
  {
   "cell_type": "markdown",
   "metadata": {},
   "source": [
    "Creating block chain transaction"
   ]
  },
  {
   "cell_type": "code",
   "execution_count": 6,
   "metadata": {},
   "outputs": [],
   "source": [
    "def create_transaction(data_fragment_id, encrypted_data, share, folder_location):\n",
    "    \"\"\"Creates a transaction object (conceptual)\"\"\"\n",
    "    transaction = {\n",
    "        \"data_fragment_id\": data_fragment_id,\n",
    "        \"encrypted_data\": encrypted_data.decode(),  # Assuming string format for simulation\n",
    "        \"key_share\": share.decode(),  # Assuming string format for simulation\n",
    "        \"folder_location\": folder_location\n",
    "    }\n",
    "    return transaction"
   ]
  },
  {
   "cell_type": "code",
   "execution_count": null,
   "metadata": {},
   "outputs": [],
   "source": [
    "blockchain = Blockchain()\n",
    "# Define number of readings and time interval for fragment\n",
    "num_readings = 4  # Number of temperature readings in a fragment\n",
    "time_interval = 5  # Time interval between readings (minutes)\n",
    "\n",
    "# Simulate generating multiple data fragments (replace with actual data source)\n",
    "data_fragments = []\n",
    "for i in range(2):  # Simulate 2 data fragments\n",
    "    data_fragment = create_data_fragment(num_readings, time_interval)\n",
    "    data_fragments.append(data_fragment)\n",
    "\n",
    "# List to store transactions for key shares\n",
    "transactions = []\n",
    "\n",
    "# Process each data fragment\n",
    "for i, data_fragment in enumerate(data_fragments):\n",
    "    # Encryption and key sharding\n",
    "    encrypted_data, key = encrypt_data(data_fragment)\n",
    "    num_shares = 3  # Number of key shares\n",
    "    threshold = 2  # Minimum shares needed for reconstruction\n",
    "    shares = split_key(key, num_shares, threshold)\n",
    "    # Store encrypted data (simulation)\n",
    "    chosen_folder = f\"folder{i+1}\"  # Simulate separate folders for each fragment\n",
    "    with open(f\"{chosen_folder}/data.txt\", \"wb\") as f:\n",
    "        f.write(encrypted_data)\n",
    "\n",
    "    # Simulate blockchain storage for key shares\n",
    "    folder_paths = [f\"folder{j+1}\" for j in range(3)]  # Match folder structure\n",
    "    for j, share in enumerate(shares):\n",
    "        # Create transaction data\n",
    "        transaction_data = create_transaction(\n",
    "            data_fragment_id=f\"temperature_sensor_readings_{i+1}\",\n",
    "            share=share,\n",
    "            folder_location=folder_paths[j]\n",
    "        )\n",
    "        transactions.append(transaction_data)\n",
    "\n",
    "for transaction in transactions:\n",
    "    print(\"Simulating sending transaction to blockchain network:\", transaction)\n",
    "\n",
    "print(\"Data fragments encrypted and key shares stored (simulated)!\")"
   ]
  },
  {
   "cell_type": "markdown",
   "metadata": {},
   "source": [
    "2- Decryption"
   ]
  },
  {
   "cell_type": "code",
   "execution_count": 8,
   "metadata": {},
   "outputs": [],
   "source": [
    "def decrypt_data_fragment(encrypted_data, key):\n",
    "  \"\"\"Decrypts the data fragment using the reconstructed key\"\"\"\n",
    "  fernet = Fernet(key)\n",
    "  decrypted_data = fernet.decrypt(encrypted_data).decode()  # Assuming string format\n",
    "  return decrypted_data"
   ]
  },
  {
   "cell_type": "markdown",
   "metadata": {},
   "source": [
    "Retrieve Data"
   ]
  },
  {
   "cell_type": "code",
   "execution_count": 9,
   "metadata": {},
   "outputs": [],
   "source": [
    "def retrieve_data(data_fragment_identifier, blockchain_data):\n",
    "  \"\"\"Retrieves and decrypts the data fragment based on blockchain information\"\"\"\n",
    "  folder_paths = []\n",
    "  for transaction in blockchain_data:\n",
    "    if transaction[\"data_fragment_identifier\"] == data_fragment_identifier:\n",
    "      # Assuming \"folder_location\" key exists in transaction data\n",
    "      folder_paths.append(transaction[\"folder_location\"])\n",
    "\n",
    "  # Check if all key share locations are retrieved\n",
    "  if len(folder_paths) != 3:\n",
    "    print(\"Error: Insufficient information retrieved from blockchain!\")\n",
    "    return None\n",
    "\n",
    "  shares = []\n",
    "  for folder_path in folder_paths:\n",
    "    # Read share data from file (assuming appropriate storage logic)\n",
    "    with open(f\"{folder_path}/share.txt\", \"rb\") as f:\n",
    "      share_data = f.read()\n",
    "    # Remove prepended random data (optional)\n",
    "    share = share_data[len(token_bytes()):]\n",
    "    shares.append(share)\n",
    "\n",
    "  # Reconstruct key from shares\n",
    "  try:\n",
    "    key = Shamir.combine(shares, 3)  # Threshold of 3 for all shares\n",
    "  except Shamir.exceptions.ShareError:\n",
    "    print(\"Error: Key reconstruction failed!\")\n",
    "    return None\n",
    "\n",
    "  # Retrieve encrypted data (replace with actual storage logic)\n",
    "  chosen_folder = f\"folder1\"  # Adapt based on data retrieval logic (e.g., transaction data)\n",
    "  with open(f\"{chosen_folder}/data.txt\", \"rb\") as f:\n",
    "    encrypted_data = f.read()\n",
    "\n",
    "  # Decrypt data fragment\n",
    "  decrypted_data = decrypt_data_fragment(encrypted_data, key)\n",
    "  return decrypted_data"
   ]
  },
  {
   "cell_type": "code",
   "execution_count": null,
   "metadata": {},
   "outputs": [],
   "source": [
    "data_fragment_identifier = \"temperature_sensor_readings_1\"\n",
    "\n",
    "blockchain_data = [\n",
    "  {\n",
    "    \"data_fragment_identifier\": \"temperature_sensor_readings_1\",\n",
    "    \"folder_location\": \"folder1/share.txt\"\n",
    "  },\n",
    "  {\n",
    "    \"data_fragment_identifier\": \"temperature_sensor_readings_1\",\n",
    "    \"folder_location\": \"folder2/share.txt\"\n",
    "  },\n",
    "  {\n",
    "    \"data_fragment_identifier\": \"temperature_sensor_readings_1\",\n",
    "    \"folder_location\": \"folder3/share.txt\"\n",
    "  }\n",
    "]\n",
    "\n",
    "decrypted_data = retrieve_data(data_fragment_identifier, blockchain_data)\n",
    "\n",
    "if decrypted_data:\n",
    "  print(f\"Retrieved and decrypted data for {data_fragment_identifier}:\")\n",
    "  print(decrypted_data)\n",
    "else:\n",
    "  print(\"Failed to retrieve data!\")\n"
   ]
  }
 ],
 "metadata": {
  "kernelspec": {
   "display_name": "Python 3",
   "language": "python",
   "name": "python3"
  },
  "language_info": {
   "codemirror_mode": {
    "name": "ipython",
    "version": 3
   },
   "file_extension": ".py",
   "mimetype": "text/x-python",
   "name": "python",
   "nbconvert_exporter": "python",
   "pygments_lexer": "ipython3",
   "version": "3.12.0"
  }
 },
 "nbformat": 4,
 "nbformat_minor": 2
}
